{
  "cells": [
    {
      "cell_type": "markdown",
      "metadata": {
        "id": "_0rO9GZTpTNe"
      },
      "source": [
        "# Get Yolov4"
      ]
    },
    {
      "cell_type": "code",
      "execution_count": null,
      "metadata": {
        "id": "Rzv8uFx7opI9"
      },
      "outputs": [],
      "source": [
        "!git clone https://github.com/AlexeyAB/darknet"
      ]
    },
    {
      "cell_type": "code",
      "execution_count": null,
      "metadata": {
        "id": "ed22LQCjlAUu"
      },
      "outputs": [],
      "source": [
        "%cd darknet\n",
        "!sed -i 's/OPENCV=0/OPENCV=1/' Makefile\n",
        "!sed -i 's/GPU=0/GPU=1/' Makefile\n",
        "!sed -i 's/CUDNN=0/CUDNN=1/' Makefile\n",
        "!sed -i 's/CUDNN_HALF=0/CUDNN_HALF=1/' Makefile"
      ]
    },
    {
      "cell_type": "code",
      "execution_count": null,
      "metadata": {
        "id": "jIu_WXtvlIgc"
      },
      "outputs": [],
      "source": [
        "!/usr/local/cuda/bin/nvcc --version"
      ]
    },
    {
      "cell_type": "code",
      "execution_count": null,
      "metadata": {
        "id": "NFlLjmNTlNVa"
      },
      "outputs": [],
      "source": [
        "!make"
      ]
    },
    {
      "cell_type": "code",
      "execution_count": null,
      "metadata": {
        "id": "gU-eXItilnS1"
      },
      "outputs": [],
      "source": [
        "!wget https://github.com/AlexeyAB/darknet/releases/download/darknet_yolo_v3_optimal/yolov4.weights"
      ]
    },
    {
      "cell_type": "code",
      "execution_count": null,
      "metadata": {
        "id": "XFVUR6ifmMCd"
      },
      "outputs": [],
      "source": [
        "# define helper functions\n",
        "def imShow(path):\n",
        "  import cv2\n",
        "  import matplotlib.pyplot as plt\n",
        "  %matplotlib inline\n",
        "\n",
        "  image = cv2.imread(path)\n",
        "  height, width = image.shape[:2]\n",
        "  resized_image = cv2.resize(image,(3*width, 3*height), interpolation = cv2.INTER_CUBIC)\n",
        "\n",
        "  fig = plt.gcf()\n",
        "  fig.set_size_inches(18, 10)\n",
        "  plt.axis(\"off\")\n",
        "  plt.imshow(cv2.cvtColor(resized_image, cv2.COLOR_BGR2RGB))\n",
        "  plt.show()\n",
        "\n",
        "# use this to upload files\n",
        "def upload():\n",
        "  from google.colab import files\n",
        "  uploaded = files.upload() \n",
        "  for name, data in uploaded.items():\n",
        "    with open(name, 'wb') as f:\n",
        "      f.write(data)\n",
        "      print ('saved file', name)\n",
        "\n",
        "# use this to download a file  \n",
        "def download(path):\n",
        "  from google.colab import files\n",
        "  files.download(path)"
      ]
    },
    {
      "cell_type": "code",
      "execution_count": null,
      "metadata": {
        "id": "3bjffUMnmN8P"
      },
      "outputs": [],
      "source": [
        "!./darknet detector test cfg/coco.data cfg/yolov4.cfg yolov4.weights data/person.jpg"
      ]
    },
    {
      "cell_type": "code",
      "execution_count": null,
      "metadata": {
        "id": "2DPKZX1SmeD4"
      },
      "outputs": [],
      "source": [
        "imShow('predictions.jpg')"
      ]
    },
    {
      "cell_type": "markdown",
      "metadata": {
        "id": "x1KNhzjBpRav"
      },
      "source": [
        "# Get Weight and Files"
      ]
    },
    {
      "cell_type": "code",
      "execution_count": null,
      "metadata": {
        "id": "0E_XGW5fqZC9"
      },
      "outputs": [],
      "source": [
        "from google.colab import drive\n",
        "drive.mount('/gdrive', force_remount=True)"
      ]
    },
    {
      "cell_type": "code",
      "execution_count": null,
      "metadata": {
        "id": "ygXa7nMrpbdE"
      },
      "outputs": [],
      "source": [
        "! cp /gdrive/MyDrive/yolo/image.c /content/darknet/src/image.c\n",
        "! cp /gdrive/MyDrive/yolo/custom.names /content/darknet/cfg/custom.names\n",
        "! cp /gdrive/MyDrive/yolo/custom.data /content/darknet/cfg/custom.data\n",
        "! cp /gdrive/MyDrive/yolo/yolov4-custom.cfg /content/darknet/cfg/yolov4-custom.cfg\n",
        "! cp /gdrive/MyDrive/yolo/yolov4-custom_last.weights /content/darknet/yolov4-custom_last.weights"
      ]
    },
    {
      "cell_type": "code",
      "execution_count": null,
      "metadata": {
        "id": "XbGbH7KAK5aa"
      },
      "outputs": [],
      "source": [
        "! mkdir result_img\n",
        "! make"
      ]
    },
    {
      "cell_type": "markdown",
      "metadata": {
        "id": "yPPeo5NQnxgj"
      },
      "source": [
        "# Auto EXE"
      ]
    },
    {
      "cell_type": "code",
      "execution_count": null,
      "metadata": {
        "id": "9lA8wIUNqc0U"
      },
      "outputs": [],
      "source": [
        "import subprocess\n",
        "import os.path\n",
        "\n",
        "k = input('이미지 파일 경로 입력 : ')\n",
        "\n",
        "subprocess.run(['./darknet', 'detector', 'test', 'cfg/coco.data', 'cfg/yolov4.cfg', 'yolov4.weights', k])\n",
        "imShow('predictions.jpg')"
      ]
    },
    {
      "cell_type": "markdown",
      "metadata": {
        "id": "02QioAXpRc_H"
      },
      "source": [
        "# Test"
      ]
    },
    {
      "cell_type": "code",
      "execution_count": null,
      "metadata": {
        "id": "vFOJKGD8OAcb"
      },
      "outputs": [],
      "source": [
        "import subprocess\n",
        "import os.path\n",
        "\n",
        "k = input('이미지 파일 경로 입력 : ')\n",
        "\n",
        "subprocess.run(['./darknet', 'detector', 'test', 'cfg/custom.data', 'cfg/yolov4-custom.cfg', 'yolov4-custom_last.weights', k])\n",
        "imShow('predictions.jpg')"
      ]
    }
  ],
  "metadata": {
    "accelerator": "GPU",
    "colab": {
      "collapsed_sections": [
        "02QioAXpRc_H",
        "Q3RZSSFXybHf"
      ],
      "name": "추천시스템.ipynb",
      "provenance": [],
      "toc_visible": true
    },
    "kernelspec": {
      "display_name": "Python 3",
      "name": "python3"
    },
    "language_info": {
      "name": "python"
    }
  },
  "nbformat": 4,
  "nbformat_minor": 0
}
